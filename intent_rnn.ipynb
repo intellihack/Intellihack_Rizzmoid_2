{
 "cells": [
  {
   "cell_type": "code",
   "execution_count": 511,
   "id": "initial_id",
   "metadata": {
    "collapsed": true,
    "ExecuteTime": {
     "end_time": "2024-05-04T11:56:20.978986Z",
     "start_time": "2024-05-04T11:56:20.916911Z"
    }
   },
   "outputs": [],
   "source": [
    "import pandas as pd\n",
    "import torch\n",
    "\n",
    "data = pd.read_csv('data.csv')"
   ]
  },
  {
   "cell_type": "code",
   "execution_count": 512,
   "outputs": [
    {
     "data": {
      "text/plain": "        Example  Complaint  Farewell  Feedback  Greet  Inquiry  Navigation  \\\n0            Hi      False     False     False   True    False       False   \n1         Hello      False     False     False   True    False       False   \n2     Hey there      False     False     False   True    False       False   \n3  Good morning      False     False     False   True    False       False   \n4         Howdy      False     False     False   True    False       False   \n\n   Request  \n0    False  \n1    False  \n2    False  \n3    False  \n4    False  ",
      "text/html": "<div>\n<style scoped>\n    .dataframe tbody tr th:only-of-type {\n        vertical-align: middle;\n    }\n\n    .dataframe tbody tr th {\n        vertical-align: top;\n    }\n\n    .dataframe thead th {\n        text-align: right;\n    }\n</style>\n<table border=\"1\" class=\"dataframe\">\n  <thead>\n    <tr style=\"text-align: right;\">\n      <th></th>\n      <th>Example</th>\n      <th>Complaint</th>\n      <th>Farewell</th>\n      <th>Feedback</th>\n      <th>Greet</th>\n      <th>Inquiry</th>\n      <th>Navigation</th>\n      <th>Request</th>\n    </tr>\n  </thead>\n  <tbody>\n    <tr>\n      <th>0</th>\n      <td>Hi</td>\n      <td>False</td>\n      <td>False</td>\n      <td>False</td>\n      <td>True</td>\n      <td>False</td>\n      <td>False</td>\n      <td>False</td>\n    </tr>\n    <tr>\n      <th>1</th>\n      <td>Hello</td>\n      <td>False</td>\n      <td>False</td>\n      <td>False</td>\n      <td>True</td>\n      <td>False</td>\n      <td>False</td>\n      <td>False</td>\n    </tr>\n    <tr>\n      <th>2</th>\n      <td>Hey there</td>\n      <td>False</td>\n      <td>False</td>\n      <td>False</td>\n      <td>True</td>\n      <td>False</td>\n      <td>False</td>\n      <td>False</td>\n    </tr>\n    <tr>\n      <th>3</th>\n      <td>Good morning</td>\n      <td>False</td>\n      <td>False</td>\n      <td>False</td>\n      <td>True</td>\n      <td>False</td>\n      <td>False</td>\n      <td>False</td>\n    </tr>\n    <tr>\n      <th>4</th>\n      <td>Howdy</td>\n      <td>False</td>\n      <td>False</td>\n      <td>False</td>\n      <td>True</td>\n      <td>False</td>\n      <td>False</td>\n      <td>False</td>\n    </tr>\n  </tbody>\n</table>\n</div>"
     },
     "execution_count": 512,
     "metadata": {},
     "output_type": "execute_result"
    }
   ],
   "source": [
    "one_hot = pd.get_dummies(data['Intent'])\n",
    "data = data.drop('Intent', axis=1)\n",
    "data = data.join(one_hot)\n",
    "\n",
    "data.head()"
   ],
   "metadata": {
    "collapsed": false,
    "ExecuteTime": {
     "end_time": "2024-05-04T11:56:20.993389Z",
     "start_time": "2024-05-04T11:56:20.933378Z"
    }
   },
   "id": "40bbafaa37fdcdac"
  },
  {
   "cell_type": "code",
   "execution_count": 513,
   "outputs": [
    {
     "data": {
      "text/plain": "((136, 8), (17, 8), (17, 8))"
     },
     "execution_count": 513,
     "metadata": {},
     "output_type": "execute_result"
    }
   ],
   "source": [
    "from sklearn.model_selection import train_test_split\n",
    "\n",
    "train_data, test_data = train_test_split(data, train_size=0.8, random_state=10)\n",
    "validation_data, test_data = train_test_split(test_data, train_size=0.5, random_state=10)\n",
    "\n",
    "train_data.shape, test_data.shape, validation_data.shape"
   ],
   "metadata": {
    "collapsed": false,
    "ExecuteTime": {
     "end_time": "2024-05-04T11:56:20.993675Z",
     "start_time": "2024-05-04T11:56:20.970569Z"
    }
   },
   "id": "b827badb4443cc45"
  },
  {
   "cell_type": "code",
   "execution_count": 514,
   "outputs": [
    {
     "data": {
      "text/plain": "                                  Example  Complaint  Farewell  Feedback  \\\n81       The response time was excellent.      False     False      True   \n137  Can you give me some advice on this?      False     False     False   \n91           Excellent service thank you.      False     False      True   \n143            Can I see previous results      False     False     False   \n76     How do I contact customer support?      False     False     False   \n\n     Greet  Inquiry  Navigation  Request  \n81   False    False       False    False  \n137  False    False       False     True  \n91   False    False       False    False  \n143  False    False        True    False  \n76   False     True       False    False  ",
      "text/html": "<div>\n<style scoped>\n    .dataframe tbody tr th:only-of-type {\n        vertical-align: middle;\n    }\n\n    .dataframe tbody tr th {\n        vertical-align: top;\n    }\n\n    .dataframe thead th {\n        text-align: right;\n    }\n</style>\n<table border=\"1\" class=\"dataframe\">\n  <thead>\n    <tr style=\"text-align: right;\">\n      <th></th>\n      <th>Example</th>\n      <th>Complaint</th>\n      <th>Farewell</th>\n      <th>Feedback</th>\n      <th>Greet</th>\n      <th>Inquiry</th>\n      <th>Navigation</th>\n      <th>Request</th>\n    </tr>\n  </thead>\n  <tbody>\n    <tr>\n      <th>81</th>\n      <td>The response time was excellent.</td>\n      <td>False</td>\n      <td>False</td>\n      <td>True</td>\n      <td>False</td>\n      <td>False</td>\n      <td>False</td>\n      <td>False</td>\n    </tr>\n    <tr>\n      <th>137</th>\n      <td>Can you give me some advice on this?</td>\n      <td>False</td>\n      <td>False</td>\n      <td>False</td>\n      <td>False</td>\n      <td>False</td>\n      <td>False</td>\n      <td>True</td>\n    </tr>\n    <tr>\n      <th>91</th>\n      <td>Excellent service thank you.</td>\n      <td>False</td>\n      <td>False</td>\n      <td>True</td>\n      <td>False</td>\n      <td>False</td>\n      <td>False</td>\n      <td>False</td>\n    </tr>\n    <tr>\n      <th>143</th>\n      <td>Can I see previous results</td>\n      <td>False</td>\n      <td>False</td>\n      <td>False</td>\n      <td>False</td>\n      <td>False</td>\n      <td>True</td>\n      <td>False</td>\n    </tr>\n    <tr>\n      <th>76</th>\n      <td>How do I contact customer support?</td>\n      <td>False</td>\n      <td>False</td>\n      <td>False</td>\n      <td>False</td>\n      <td>True</td>\n      <td>False</td>\n      <td>False</td>\n    </tr>\n  </tbody>\n</table>\n</div>"
     },
     "execution_count": 514,
     "metadata": {},
     "output_type": "execute_result"
    }
   ],
   "source": [
    "# print the first 5 rows of the train_data\n",
    "train_data.head()"
   ],
   "metadata": {
    "collapsed": false,
    "ExecuteTime": {
     "end_time": "2024-05-04T11:56:20.993947Z",
     "start_time": "2024-05-04T11:56:20.977030Z"
    }
   },
   "id": "70645a7ec6073077"
  },
  {
   "cell_type": "code",
   "execution_count": 515,
   "outputs": [],
   "source": [
    "# turn everything to lowercase\n",
    "train_data['Example'] = train_data['Example'].str.lower()\n",
    "test_data['Example'] = test_data['Example'].str.lower()\n",
    "validation_data['Example'] = validation_data['Example'].str.lower()"
   ],
   "metadata": {
    "collapsed": false,
    "ExecuteTime": {
     "end_time": "2024-05-04T11:56:20.998160Z",
     "start_time": "2024-05-04T11:56:20.981994Z"
    }
   },
   "id": "4a22d030e0c9ef03"
  },
  {
   "cell_type": "code",
   "execution_count": 516,
   "outputs": [
    {
     "name": "stderr",
     "output_type": "stream",
     "text": [
      "/Users/lakshithnishshanke/miniconda3/envs/labml/lib/python3.9/site-packages/huggingface_hub/file_download.py:1132: FutureWarning: `resume_download` is deprecated and will be removed in version 1.0.0. Downloads always resume when possible. If you want to force a new download, use `force_download=True`.\n",
      "  warnings.warn(\n"
     ]
    },
    {
     "data": {
      "text/plain": "[1996, 3433, 2051, 2001, 6581, 1012]"
     },
     "execution_count": 516,
     "metadata": {},
     "output_type": "execute_result"
    }
   ],
   "source": [
    "from transformers import BertTokenizer\n",
    "\n",
    "tokenizer = BertTokenizer.from_pretrained('bert-base-uncased')\n",
    "\n",
    "tokens = tokenizer.tokenize(train_data['Example'].values[0])\n",
    "\n",
    "tokenizer.convert_tokens_to_ids(tokens)"
   ],
   "metadata": {
    "collapsed": false,
    "ExecuteTime": {
     "end_time": "2024-05-04T11:56:22.254770Z",
     "start_time": "2024-05-04T11:56:20.984503Z"
    }
   },
   "id": "4f0e639e57be59bb"
  },
  {
   "cell_type": "code",
   "execution_count": 517,
   "outputs": [],
   "source": [
    "from torch.utils.data import Dataset\n",
    "\n",
    "class CustomDataset(Dataset):\n",
    "    def __init__(self, data):\n",
    "        sentences = data['Example'].values\n",
    "        \n",
    "        inputs = tokenizer(sentences.tolist(), padding=True, truncation=True, return_tensors='pt')['input_ids']\n",
    "        \n",
    "        self.inputs = inputs#torch.unsqueeze(inputs, 2)\n",
    "            \n",
    "        print(self.inputs.shape)\n",
    "        \n",
    "        self.outputs = torch.tensor(data.drop('Example', axis=1).values, dtype=torch.float32)\n",
    "\n",
    "    def __getitem__(self, index):\n",
    "        return self.inputs[index], self.outputs[index]\n",
    "\n",
    "    def __len__(self):\n",
    "        return len(self.inputs)"
   ],
   "metadata": {
    "collapsed": false,
    "ExecuteTime": {
     "end_time": "2024-05-04T11:56:22.258315Z",
     "start_time": "2024-05-04T11:56:22.189647Z"
    }
   },
   "id": "76cad51bb306b181"
  },
  {
   "cell_type": "code",
   "execution_count": 518,
   "outputs": [
    {
     "name": "stdout",
     "output_type": "stream",
     "text": [
      "torch.Size([136, 13])\n",
      "torch.Size([17, 13])\n",
      "torch.Size([17, 12])\n"
     ]
    }
   ],
   "source": [
    "train_dataset = CustomDataset(train_data)\n",
    "test_dataset = CustomDataset(test_data)\n",
    "validation_dataset = CustomDataset(validation_data)"
   ],
   "metadata": {
    "collapsed": false,
    "ExecuteTime": {
     "end_time": "2024-05-04T11:56:22.333678Z",
     "start_time": "2024-05-04T11:56:22.247693Z"
    }
   },
   "id": "b0e08ae15575d14f"
  },
  {
   "cell_type": "code",
   "execution_count": 519,
   "outputs": [],
   "source": [
    "batch_size = 16"
   ],
   "metadata": {
    "collapsed": false,
    "ExecuteTime": {
     "end_time": "2024-05-04T11:56:22.357269Z",
     "start_time": "2024-05-04T11:56:22.317469Z"
    }
   },
   "id": "27c5cceea37bc2b2"
  },
  {
   "cell_type": "code",
   "execution_count": 520,
   "outputs": [
    {
     "data": {
      "text/plain": "(9, 2, 2)"
     },
     "execution_count": 520,
     "metadata": {},
     "output_type": "execute_result"
    }
   ],
   "source": [
    "from torch.utils.data import DataLoader\n",
    "\n",
    "train_loader = DataLoader(train_dataset, batch_size=batch_size, shuffle=True)\n",
    "test_loader = DataLoader(test_dataset, batch_size=batch_size, shuffle=False)\n",
    "validation_loader = DataLoader(validation_dataset, batch_size=batch_size, shuffle=False)\n",
    "\n",
    "len(train_loader), len(test_loader), len(validation_loader)"
   ],
   "metadata": {
    "collapsed": false,
    "ExecuteTime": {
     "end_time": "2024-05-04T11:56:22.373509Z",
     "start_time": "2024-05-04T11:56:22.330667Z"
    }
   },
   "id": "47004910115e4967"
  },
  {
   "cell_type": "code",
   "execution_count": 521,
   "outputs": [
    {
     "data": {
      "text/plain": "[tensor([[  101,  2129,  2079,  1045,  2131,  2000,  1996,  7205,  3902,  2644,\n           1029,   102,     0],\n         [  101, 22708,   102,     0,     0,     0,     0,     0,     0,     0,\n              0,     0,     0],\n         [  101,  6140,  2023,  3931,   102,     0,     0,     0,     0,     0,\n              0,     0,     0],\n         [  101,  2064,  1045, 22149,  2011,  2376,   102,     0,     0,     0,\n              0,     0,     0],\n         [  101,  2045,  2001,  2019,  7561,  1999,  2026,  2344,  1012,   102,\n              0,     0,     0],\n         [  101,  2054,  2024,  1996,  2327,  7538, 13051,  1029,   102,     0,\n              0,     0,     0],\n         [  101,  9061,  2005,  2085,   102,     0,     0,     0,     0,     0,\n              0,     0,     0],\n         [  101,  4608,  2017,  2101,   102,     0,     0,     0,     0,     0,\n              0,     0,     0],\n         [  101,  2693,  2006,  2000,  1996,  2279,  2930,   102,     0,     0,\n              0,     0,     0],\n         [  101,  1996,  4031,  2003, 28829,  1012,   102,     0,     0,     0,\n              0,     0,     0],\n         [  101,  2064,  2057,  8849,  1037,  2367,  8476,   102,     0,     0,\n              0,     0,     0],\n         [  101,  4931,  2129,  2024,  2017,  2725,  1029,   102,     0,     0,\n              0,     0,     0],\n         [  101,  2017,  1005,  2310,  2042,  2200,  2658,  4283,  1012,   102,\n              0,     0,     0],\n         [  101,  9061,  2005,  2085,   102,     0,     0,     0,     0,     0,\n              0,     0,     0],\n         [  101,  2064,  2017,  2393,  2033,  3305,  2023,  1029,   102,     0,\n              0,     0,     0],\n         [  101,  2054,  1005,  1055,  1996,  7915,  2126,  2000,  2131,  2000,\n           5116,  1029,   102]]),\n tensor([[0., 0., 0., 0., 1., 0., 0.],\n         [0., 1., 0., 0., 0., 0., 0.],\n         [0., 0., 0., 0., 0., 1., 0.],\n         [0., 0., 0., 0., 0., 1., 0.],\n         [1., 0., 0., 0., 0., 0., 0.],\n         [0., 0., 0., 0., 1., 0., 0.],\n         [0., 1., 0., 0., 0., 0., 0.],\n         [0., 1., 0., 0., 0., 0., 0.],\n         [0., 0., 0., 0., 0., 1., 0.],\n         [1., 0., 0., 0., 0., 0., 0.],\n         [0., 0., 0., 0., 0., 1., 0.],\n         [0., 0., 0., 1., 0., 0., 0.],\n         [0., 0., 1., 0., 0., 0., 0.],\n         [0., 1., 0., 0., 0., 0., 0.],\n         [0., 0., 0., 0., 0., 0., 1.],\n         [0., 0., 0., 0., 1., 0., 0.]])]"
     },
     "execution_count": 521,
     "metadata": {},
     "output_type": "execute_result"
    }
   ],
   "source": [
    "# print the first batch of the train_loader\n",
    "next(iter(train_loader))"
   ],
   "metadata": {
    "collapsed": false,
    "ExecuteTime": {
     "end_time": "2024-05-04T11:56:22.450942Z",
     "start_time": "2024-05-04T11:56:22.345232Z"
    }
   },
   "id": "77e20ee7842b57e3"
  },
  {
   "cell_type": "code",
   "execution_count": 522,
   "outputs": [],
   "source": [
    "import torch.nn as nn\n",
    "import torch.nn.functional as F\n",
    "\n",
    "class RNN(nn.Module):\n",
    "    def __init__(self):\n",
    "        super(RNN, self).__init__()\n",
    "\n",
    "        self.hidden_size = 64\n",
    "\n",
    "        self.i2h = nn.Linear(1, self.hidden_size)\n",
    "        self.h2h = nn.Linear(self.hidden_size, self.hidden_size)\n",
    "        self.h2o = nn.Linear(self.hidden_size, 7)\n",
    "        self.softmax = nn.LogSoftmax(dim=1)\n",
    "\n",
    "    def forward(self, input, hidden):\n",
    "        hidden = F.tanh(self.i2h(input) + self.h2h(hidden))\n",
    "        output = self.h2o(hidden)\n",
    "        output = self.softmax(output)\n",
    "        return output, hidden\n",
    "\n",
    "    def initHidden(self):\n",
    "        return torch.zeros(1, self.hidden_size)\n",
    "\n",
    "n_hidden = 64\n",
    "rnn = RNN()\n",
    "\n",
    "rnn = rnn.float()"
   ],
   "metadata": {
    "collapsed": false,
    "ExecuteTime": {
     "end_time": "2024-05-04T11:56:22.471928Z",
     "start_time": "2024-05-04T11:56:22.371830Z"
    }
   },
   "id": "9867f20200624531"
  },
  {
   "cell_type": "code",
   "execution_count": 523,
   "outputs": [
    {
     "data": {
      "text/plain": "tensor([[-2.0423, -2.1536, -2.3602, -2.0285, -2.1530, -1.2375, -2.1035]],\n       grad_fn=<LogSoftmaxBackward0>)"
     },
     "execution_count": 523,
     "metadata": {},
     "output_type": "execute_result"
    }
   ],
   "source": [
    "input = torch.tensor([1.0])\n",
    "hidden = torch.zeros(1, 64)\n",
    "\n",
    "output, next_hidden = rnn(input, hidden)\n",
    "output"
   ],
   "metadata": {
    "collapsed": false,
    "ExecuteTime": {
     "end_time": "2024-05-04T11:56:22.473046Z",
     "start_time": "2024-05-04T11:56:22.378068Z"
    }
   },
   "id": "cff6a50feed4a481"
  },
  {
   "cell_type": "code",
   "execution_count": 524,
   "outputs": [],
   "source": [
    "criterion = nn.NLLLoss()\n",
    "learning_rate = 0.005"
   ],
   "metadata": {
    "collapsed": false,
    "ExecuteTime": {
     "end_time": "2024-05-04T11:56:22.473126Z",
     "start_time": "2024-05-04T11:56:22.393783Z"
    }
   },
   "id": "38c2147ec8d7a19f"
  },
  {
   "cell_type": "code",
   "execution_count": 527,
   "outputs": [],
   "source": [
    "def train(category_tensor, line_tensor):\n",
    "    hidden = rnn.initHidden()\n",
    "    line_tensor = line_tensor.float()\n",
    "    \n",
    "    # print(torch.unsqueeze(line_tensor[:,0], 1).shape)\n",
    "\n",
    "    rnn.zero_grad()\n",
    "\n",
    "    for i in range(13):\n",
    "        output, hidden = rnn(torch.unsqueeze(line_tensor[:,i], 1), hidden)\n",
    "    \n",
    "    # print(output.shape, category_tensor.shape)\n",
    "    \n",
    "    # convert category tensor to indices\n",
    "    category_tensor = torch.argmax(category_tensor, dim=1)\n",
    "    \n",
    "    loss = criterion(output, category_tensor)\n",
    "    loss.backward()\n",
    "\n",
    "    # Add parameters' gradients to their values, multiplied by learning rate\n",
    "    for p in rnn.parameters():\n",
    "        p.data.add_(p.grad.data, alpha=-learning_rate)\n",
    "\n",
    "    print(loss.item())"
   ],
   "metadata": {
    "collapsed": false,
    "ExecuteTime": {
     "end_time": "2024-05-04T11:56:48.675625Z",
     "start_time": "2024-05-04T11:56:48.666947Z"
    }
   },
   "id": "cbd72e273768eaec"
  },
  {
   "cell_type": "code",
   "execution_count": 529,
   "outputs": [
    {
     "name": "stdout",
     "output_type": "stream",
     "text": [
      "1.9303321838378906\n",
      "1.925128698348999\n",
      "1.987245798110962\n",
      "1.906937599182129\n",
      "1.9889185428619385\n",
      "1.840927004814148\n",
      "1.9947820901870728\n",
      "1.9349689483642578\n",
      "1.8735827207565308\n",
      "1.9865564107894897\n",
      "1.9366745948791504\n",
      "1.9449008703231812\n",
      "1.873313546180725\n",
      "1.9452481269836426\n",
      "1.905921220779419\n",
      "1.8565754890441895\n",
      "1.9853689670562744\n",
      "1.883845567703247\n",
      "1.8577501773834229\n",
      "1.906562089920044\n",
      "1.899247407913208\n",
      "1.8519643545150757\n",
      "1.8617703914642334\n",
      "1.9268454313278198\n",
      "2.021665096282959\n",
      "2.046548366546631\n",
      "1.937017560005188\n",
      "1.9318863153457642\n",
      "1.8511204719543457\n",
      "1.8767870664596558\n",
      "1.9580570459365845\n",
      "1.9368211030960083\n",
      "1.8247233629226685\n",
      "1.8828065395355225\n",
      "1.9926762580871582\n",
      "2.095032215118408\n",
      "1.979811191558838\n",
      "1.9222298860549927\n",
      "1.9002243280410767\n",
      "1.966744303703308\n",
      "1.763824462890625\n",
      "1.8778672218322754\n",
      "1.9244420528411865\n",
      "1.9628218412399292\n",
      "1.9417093992233276\n",
      "1.9498860836029053\n",
      "1.9452153444290161\n",
      "1.9322185516357422\n",
      "1.908156156539917\n",
      "1.9294421672821045\n",
      "1.8911964893341064\n",
      "1.885820984840393\n",
      "1.8943828344345093\n",
      "1.8073861598968506\n",
      "1.9515113830566406\n",
      "1.9159328937530518\n",
      "1.8687843084335327\n",
      "1.9028443098068237\n",
      "2.0039141178131104\n",
      "1.890777587890625\n",
      "1.8565833568572998\n",
      "1.8269658088684082\n",
      "1.9834245443344116\n",
      "1.8661413192749023\n",
      "1.861687421798706\n",
      "1.9193439483642578\n",
      "1.9408420324325562\n",
      "1.8803002834320068\n",
      "2.007455348968506\n",
      "1.8569306135177612\n",
      "1.8774982690811157\n",
      "1.9526453018188477\n",
      "1.8622446060180664\n",
      "1.857777714729309\n",
      "1.9450573921203613\n",
      "1.8486504554748535\n",
      "1.8815197944641113\n",
      "1.8325659036636353\n",
      "1.9527993202209473\n",
      "1.9654524326324463\n",
      "2.029005527496338\n",
      "1.8553097248077393\n",
      "1.9735666513442993\n",
      "1.858997106552124\n",
      "1.893769383430481\n",
      "1.8963916301727295\n",
      "1.9331822395324707\n",
      "1.869757056236267\n",
      "1.9047996997833252\n",
      "1.90542471408844\n",
      "1.9396460056304932\n",
      "1.896999716758728\n",
      "1.866987943649292\n",
      "1.9113178253173828\n",
      "1.8813154697418213\n",
      "1.8024344444274902\n",
      "1.9356224536895752\n",
      "1.9732738733291626\n",
      "1.8269704580307007\n",
      "1.8982548713684082\n",
      "2.015316963195801\n",
      "1.9308631420135498\n",
      "1.9147279262542725\n",
      "1.777711033821106\n",
      "1.8532836437225342\n",
      "1.8345950841903687\n",
      "1.9615707397460938\n",
      "1.8346381187438965\n",
      "1.9088599681854248\n",
      "1.8615309000015259\n",
      "1.8703497648239136\n",
      "1.8985040187835693\n",
      "1.934990644454956\n",
      "1.792048692703247\n",
      "1.9853440523147583\n",
      "1.845945954322815\n",
      "1.9765453338623047\n",
      "1.861728310585022\n",
      "1.8595603704452515\n",
      "1.8667802810668945\n",
      "1.8580912351608276\n",
      "1.9885120391845703\n",
      "1.8306965827941895\n",
      "1.934401273727417\n",
      "1.9344241619110107\n",
      "1.8626959323883057\n",
      "1.8757328987121582\n",
      "1.862155556678772\n",
      "1.7590233087539673\n",
      "1.8989506959915161\n",
      "1.9298793077468872\n",
      "1.8592393398284912\n",
      "1.9148250818252563\n",
      "1.9554799795150757\n",
      "2.0021910667419434\n",
      "1.8619567155838013\n",
      "1.9379103183746338\n",
      "1.8516689538955688\n",
      "1.8892356157302856\n",
      "1.8145959377288818\n",
      "1.8962188959121704\n",
      "1.8523184061050415\n",
      "1.9897984266281128\n",
      "1.8850624561309814\n",
      "1.8154858350753784\n",
      "1.8452565670013428\n",
      "1.93636953830719\n",
      "1.8491735458374023\n",
      "1.9517407417297363\n",
      "1.8344100713729858\n",
      "1.8922642469406128\n",
      "1.887744426727295\n",
      "2.0011086463928223\n",
      "1.8755606412887573\n",
      "1.875512719154358\n",
      "1.9662188291549683\n",
      "1.9381353855133057\n",
      "1.8586602210998535\n",
      "1.848036289215088\n",
      "1.9339481592178345\n",
      "1.7823331356048584\n",
      "1.8149101734161377\n",
      "1.9039006233215332\n",
      "1.8078590631484985\n",
      "1.981584072113037\n",
      "1.851414442062378\n",
      "1.937251091003418\n",
      "1.9493213891983032\n",
      "1.7875347137451172\n",
      "1.8083467483520508\n",
      "1.9159538745880127\n",
      "1.8112518787384033\n",
      "1.8301739692687988\n",
      "1.852076768875122\n",
      "1.8900314569473267\n",
      "1.8945366144180298\n",
      "2.0135982036590576\n",
      "1.8436676263809204\n",
      "1.8643141984939575\n",
      "1.9034578800201416\n",
      "1.757047414779663\n",
      "1.9408155679702759\n",
      "2.016721725463867\n",
      "1.882330060005188\n",
      "1.8189822435379028\n",
      "1.8193830251693726\n",
      "1.7980329990386963\n",
      "1.9900611639022827\n",
      "1.8509398698806763\n",
      "1.8179903030395508\n",
      "2.0169637203216553\n",
      "1.848759412765503\n",
      "1.9688827991485596\n",
      "1.9236353635787964\n",
      "1.7826311588287354\n",
      "1.8550752401351929\n",
      "1.8158650398254395\n",
      "1.7787742614746094\n",
      "1.8938037157058716\n",
      "1.8626600503921509\n",
      "1.785612940788269\n",
      "1.9278794527053833\n",
      "1.9233461618423462\n",
      "1.9273732900619507\n",
      "1.9387106895446777\n",
      "1.760594129562378\n",
      "1.7658569812774658\n",
      "1.725024938583374\n",
      "1.9220491647720337\n",
      "1.9057393074035645\n",
      "1.8828589916229248\n",
      "1.800742506980896\n",
      "1.856164574623108\n",
      "1.9043329954147339\n",
      "1.9195533990859985\n",
      "1.9305119514465332\n",
      "1.85635507106781\n",
      "1.8139383792877197\n",
      "1.9841278791427612\n",
      "1.7793594598770142\n",
      "1.8409111499786377\n",
      "1.8787782192230225\n",
      "1.873755693435669\n",
      "1.962445855140686\n",
      "1.7514207363128662\n",
      "1.907619595527649\n",
      "1.9315786361694336\n",
      "1.8560595512390137\n",
      "1.8309195041656494\n",
      "1.8470330238342285\n",
      "1.8635257482528687\n",
      "1.8866896629333496\n",
      "1.8337548971176147\n",
      "1.796034574508667\n",
      "1.7920645475387573\n",
      "1.906639575958252\n",
      "1.8826156854629517\n",
      "1.843686580657959\n",
      "1.9098597764968872\n",
      "2.0132017135620117\n",
      "1.7245234251022339\n",
      "1.8584314584732056\n",
      "1.7995977401733398\n",
      "1.7331509590148926\n",
      "1.832468032836914\n",
      "2.045163631439209\n",
      "1.8086572885513306\n",
      "1.832165002822876\n",
      "1.8545607328414917\n",
      "1.9068524837493896\n",
      "1.9021021127700806\n",
      "1.7935118675231934\n",
      "1.8253995180130005\n",
      "1.8214547634124756\n",
      "1.9544016122817993\n",
      "1.8912149667739868\n",
      "1.8944573402404785\n",
      "1.6986302137374878\n",
      "1.803178071975708\n",
      "1.9200806617736816\n",
      "1.9776947498321533\n",
      "1.857373833656311\n",
      "1.7287030220031738\n",
      "1.783766508102417\n",
      "1.8701269626617432\n",
      "1.8271275758743286\n",
      "1.8575578927993774\n",
      "1.9223637580871582\n",
      "1.9366769790649414\n",
      "1.9930179119110107\n",
      "1.7739298343658447\n",
      "1.9030097723007202\n",
      "1.8925580978393555\n",
      "1.9029054641723633\n",
      "1.8724175691604614\n",
      "1.8428736925125122\n",
      "1.8036880493164062\n",
      "1.8170195817947388\n",
      "1.8965831995010376\n",
      "1.837172269821167\n",
      "1.80349600315094\n",
      "1.868456482887268\n",
      "1.732224941253662\n",
      "1.9144415855407715\n",
      "1.8140695095062256\n",
      "1.8130885362625122\n",
      "1.9851187467575073\n",
      "1.9385558366775513\n",
      "1.892331600189209\n",
      "1.860296368598938\n",
      "1.847805380821228\n",
      "1.8475983142852783\n",
      "1.8677394390106201\n",
      "1.9323657751083374\n",
      "1.84469473361969\n",
      "1.685956358909607\n",
      "1.89302396774292\n",
      "1.7913861274719238\n",
      "1.9772197008132935\n",
      "1.862314224243164\n",
      "1.8649680614471436\n",
      "1.8794738054275513\n",
      "1.820578932762146\n",
      "1.7659159898757935\n",
      "1.8477630615234375\n",
      "1.7894285917282104\n",
      "1.9263039827346802\n",
      "1.8029743432998657\n",
      "1.810154676437378\n",
      "1.8487462997436523\n",
      "1.874297022819519\n",
      "1.8453322649002075\n",
      "1.8074839115142822\n",
      "1.9578261375427246\n",
      "1.613855004310608\n",
      "1.8305796384811401\n",
      "1.8244178295135498\n",
      "1.827355980873108\n",
      "1.834458589553833\n",
      "2.039227247238159\n",
      "1.8265665769577026\n",
      "1.893291711807251\n",
      "1.725238561630249\n",
      "1.7175955772399902\n",
      "1.8415250778198242\n",
      "1.8866604566574097\n",
      "1.8613404035568237\n",
      "1.8560426235198975\n",
      "1.7908203601837158\n",
      "1.6872895956039429\n",
      "1.9079222679138184\n",
      "1.8757760524749756\n",
      "1.8648844957351685\n",
      "1.7794767618179321\n",
      "1.9819526672363281\n",
      "1.8851642608642578\n",
      "1.6989635229110718\n",
      "1.853986144065857\n",
      "1.7905935049057007\n",
      "1.949967861175537\n",
      "1.7283971309661865\n",
      "1.904266357421875\n",
      "1.9014182090759277\n",
      "1.725177526473999\n",
      "1.9044535160064697\n",
      "1.7571734189987183\n",
      "1.9128241539001465\n",
      "1.7822152376174927\n",
      "1.8409160375595093\n",
      "1.8709568977355957\n",
      "1.799356460571289\n",
      "1.8176615238189697\n",
      "1.9398068189620972\n",
      "1.7887474298477173\n",
      "1.7813256978988647\n",
      "2.018686294555664\n",
      "1.8171722888946533\n",
      "1.8807430267333984\n",
      "1.6690596342086792\n",
      "1.6995197534561157\n",
      "1.818275809288025\n",
      "1.9516795873641968\n",
      "1.823793649673462\n",
      "1.8660496473312378\n",
      "1.6415284872055054\n",
      "1.9715529680252075\n",
      "1.796749234199524\n",
      "1.7447670698165894\n",
      "1.8406273126602173\n",
      "1.773966670036316\n",
      "1.7475897073745728\n",
      "1.7741124629974365\n",
      "1.7779442071914673\n",
      "1.9497654438018799\n",
      "1.7960054874420166\n",
      "1.8285472393035889\n",
      "1.8545377254486084\n",
      "2.0215797424316406\n",
      "1.7637892961502075\n",
      "1.956578016281128\n",
      "1.8550775051116943\n",
      "1.7049610614776611\n",
      "1.862092137336731\n",
      "1.911503553390503\n",
      "1.8021193742752075\n",
      "1.7538689374923706\n",
      "1.7558157444000244\n",
      "1.7950398921966553\n",
      "1.8052583932876587\n",
      "1.763088583946228\n",
      "1.7710449695587158\n",
      "1.929871678352356\n",
      "1.8325523138046265\n",
      "1.836196780204773\n",
      "1.8192689418792725\n",
      "1.8052749633789062\n",
      "1.8344483375549316\n",
      "1.81903076171875\n",
      "1.7373665571212769\n",
      "1.809749722480774\n",
      "1.9347758293151855\n",
      "1.7730481624603271\n",
      "1.8241522312164307\n",
      "1.8359158039093018\n",
      "1.7046217918395996\n",
      "1.8018375635147095\n",
      "1.8481204509735107\n",
      "1.7453200817108154\n",
      "1.8459324836730957\n",
      "1.9637799263000488\n",
      "1.6808806657791138\n",
      "1.7954610586166382\n",
      "1.7752084732055664\n",
      "1.8916374444961548\n",
      "1.8450709581375122\n",
      "1.800311803817749\n",
      "1.9363170862197876\n",
      "1.7263283729553223\n",
      "1.7567318677902222\n",
      "1.7025152444839478\n",
      "1.8588670492172241\n",
      "1.9045758247375488\n",
      "1.6552541255950928\n",
      "1.888131022453308\n",
      "1.8518664836883545\n",
      "1.5880059003829956\n",
      "1.8404664993286133\n",
      "1.7144052982330322\n",
      "1.8804590702056885\n",
      "1.8882055282592773\n",
      "1.736167311668396\n",
      "1.871635913848877\n",
      "1.7934489250183105\n",
      "1.5784060955047607\n",
      "1.8609833717346191\n",
      "1.9647352695465088\n",
      "1.7387540340423584\n",
      "1.814685344696045\n",
      "1.7671452760696411\n",
      "1.8554518222808838\n",
      "1.8266966342926025\n",
      "1.9043121337890625\n",
      "1.6105467081069946\n",
      "1.9535504579544067\n",
      "1.6649099588394165\n",
      "1.7244815826416016\n",
      "2.0371861457824707\n",
      "1.7061069011688232\n",
      "1.775456428527832\n",
      "1.753676176071167\n"
     ]
    }
   ],
   "source": [
    "# iterate data loader and train\n",
    "epochs = 50\n",
    "for epoch in range(epochs):\n",
    "    for i, (input, output) in enumerate(train_loader):\n",
    "        train(output, input)"
   ],
   "metadata": {
    "collapsed": false,
    "ExecuteTime": {
     "end_time": "2024-05-04T11:57:43.345948Z",
     "start_time": "2024-05-04T11:57:42.813725Z"
    }
   },
   "id": "2c9215aca4f7608d"
  },
  {
   "cell_type": "code",
   "execution_count": 526,
   "outputs": [],
   "source": [],
   "metadata": {
    "collapsed": false,
    "ExecuteTime": {
     "end_time": "2024-05-04T11:56:22.530117Z",
     "start_time": "2024-05-04T11:56:22.453820Z"
    }
   },
   "id": "6a40ca5f9990d524"
  }
 ],
 "metadata": {
  "kernelspec": {
   "display_name": "Python 3",
   "language": "python",
   "name": "python3"
  },
  "language_info": {
   "codemirror_mode": {
    "name": "ipython",
    "version": 2
   },
   "file_extension": ".py",
   "mimetype": "text/x-python",
   "name": "python",
   "nbconvert_exporter": "python",
   "pygments_lexer": "ipython2",
   "version": "2.7.6"
  }
 },
 "nbformat": 4,
 "nbformat_minor": 5
}
